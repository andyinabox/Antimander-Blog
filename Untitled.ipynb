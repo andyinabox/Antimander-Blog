{
 "cells": [
  {
   "cell_type": "code",
   "execution_count": 50,
   "metadata": {
    "collapsed": true
   },
   "outputs": [],
   "source": [
    "%matplotlib inline\n",
    "import json, requests, random\n",
    "import numpy as np\n",
    "import matplotlib as plt\n",
    "import shapefile\n",
    "from collections import defaultdict\n",
    "from itertools import combinations\n",
    "import matplotlib.pyplot as plt\n",
    "import matplotlib\n",
    "from matplotlib.patches import Polygon\n",
    "from matplotlib.collections import PatchCollection, LineCollection\n",
    "import time\n",
    "from itertools import combinations\n"
   ]
  },
  {
   "cell_type": "code",
   "execution_count": 54,
   "metadata": {
    "collapsed": true
   },
   "outputs": [],
   "source": [
    "sf = shapefile.Reader('/Users/joelsimon/Data/gerrymandering/WI_wards_12_16/WI_ltsb_corrected_final.shp')"
   ]
  },
  {
   "cell_type": "code",
   "execution_count": 60,
   "metadata": {
    "collapsed": true
   },
   "outputs": [],
   "source": [
    "records = sf.records()"
   ]
  },
  {
   "cell_type": "code",
   "execution_count": 61,
   "metadata": {},
   "outputs": [
    {
     "data": {
      "text/plain": [
       "6634"
      ]
     },
     "execution_count": 61,
     "metadata": {},
     "output_type": "execute_result"
    }
   ],
   "source": [
    "len(records)"
   ]
  },
  {
   "cell_type": "code",
   "execution_count": 2,
   "metadata": {
    "collapsed": true
   },
   "outputs": [],
   "source": [
    "from src.state import State"
   ]
  },
  {
   "cell_type": "code",
   "execution_count": 3,
   "metadata": {
    "collapsed": true
   },
   "outputs": [],
   "source": [
    "from src import metrics"
   ]
  },
  {
   "cell_type": "code",
   "execution_count": 4,
   "metadata": {
    "collapsed": true
   },
   "outputs": [],
   "source": [
    "with open('data/WI.json', 'r') as file:\n",
    "    state_data = json.load(file)\n",
    "    real_districts = state_data['real_districts']\n",
    "    state = State(state_data)"
   ]
  },
  {
   "cell_type": "code",
   "execution_count": 113,
   "metadata": {},
   "outputs": [
    {
     "data": {
      "text/plain": [
       "array([1503280, 1402390])"
      ]
     },
     "execution_count": 113,
     "metadata": {},
     "output_type": "execute_result"
    }
   ],
   "source": [
    "state.tile_voters.sum(axis=0)"
   ]
  },
  {
   "cell_type": "code",
   "execution_count": 5,
   "metadata": {
    "collapsed": true
   },
   "outputs": [],
   "source": [
    "real_districts = np.array(real_districts, dtype='i') - 1"
   ]
  },
  {
   "cell_type": "code",
   "execution_count": 6,
   "metadata": {},
   "outputs": [
    {
     "data": {
      "text/plain": [
       "{0, 1, 2, 3, 4, 5, 6, 7}"
      ]
     },
     "execution_count": 6,
     "metadata": {},
     "output_type": "execute_result"
    }
   ],
   "source": [
    "set(real_districts)"
   ]
  },
  {
   "cell_type": "code",
   "execution_count": 94,
   "metadata": {
    "collapsed": true,
    "scrolled": false
   },
   "outputs": [],
   "source": [
    "# print(real_districts.tolist())"
   ]
  },
  {
   "cell_type": "code",
   "execution_count": 14,
   "metadata": {},
   "outputs": [
    {
     "name": "stdout",
     "output_type": "stream",
     "text": [
      "compactness_convex_hull 0.3100380273674911\n",
      "equality 0.0\n",
      "polsby_popper 0.7883228659629822\n",
      "competitiveness 0.5316499471664429\n",
      "efficiency_gap 0.08462689816951752\n"
     ]
    }
   ],
   "source": [
    "real_values = {}\n",
    "for name in ['compactness_convex_hull', 'equality', 'polsby_popper', 'competitiveness', 'efficiency_gap']:\n",
    "    real_values[name] = getattr(metrics, name)(state, real_districts, 8)\n",
    "    print(name, real_values[name])"
   ]
  },
  {
   "cell_type": "code",
   "execution_count": 11,
   "metadata": {
    "collapsed": true
   },
   "outputs": [],
   "source": [
    "n = state.n_tiles * 2\n",
    "binary_idxs_a = np.random.randint(0, high=state.n_tiles-1, size=n)\n",
    "binary_idxs_b = np.random.randint(0, high=state.n_tiles-1, size=n)\n",
    "def pairwise_dist(dists_a, dists_b):\n",
    "    return (dists_a[ binary_idxs_a ] == dists_b[ binary_idxs_b ]).mean()"
   ]
  },
  {
   "cell_type": "code",
   "execution_count": 23,
   "metadata": {
    "collapsed": true
   },
   "outputs": [],
   "source": [
    "def filter_gt_real(run_data):\n",
    "    filtered = []\n",
    "    for i, vals in enumerate(run_data['values']):\n",
    "        if vals[0] <= real_values['efficiency_gap'] \\\n",
    "            and vals[1] <= real_values['polsby_popper'] \\\n",
    "            and vals[2] <= real_values['competitiveness']:\n",
    "            filtered.append(i)\n",
    "    print(len(filtered), len(run_data['values']))\n",
    "    return [run_data['solutions'][i] for i in filtered]"
   ]
  },
  {
   "cell_type": "code",
   "execution_count": 8,
   "metadata": {
    "collapsed": true
   },
   "outputs": [],
   "source": [
    "from src.novelty_utils import histogram_features"
   ]
  },
  {
   "cell_type": "code",
   "execution_count": 55,
   "metadata": {
    "collapsed": true
   },
   "outputs": [],
   "source": [
    "all_rundata = {}\n",
    "root = 'http://localhost:8000/Projects/Antimander/view/data/'\n",
    "baseline_names = ['WI_S1', 'WI_S2', 'WI_S3', 'WI_S4', 'WI_S5']\n",
    "for name in baseline_names:\n",
    "    if name == 2:\n",
    "        path = root + name + '/rundata_5.json'\n",
    "    else:\n",
    "        path = root + name + '/rundata_4.json'\n",
    "    all_rundata[name] = requests.get(path).json()\n",
    "    \n",
    "fif_nov_names = ['WI_FIF_NOV_DHIST_S1', 'WI_FIF_NOV_DHIST_S3', 'WI_FIF_NOV_DHIST_S4', 'WI_FIF_NOV_DHIST_S5', 'WI_FIF_NOV_DHIST_S6']\n",
    "for name in fif_nov_names:\n",
    "    path = root + name + '/rundata_4.json'\n",
    "    all_rundata[name] = requests.get(path).json()"
   ]
  },
  {
   "cell_type": "code",
   "execution_count": null,
   "metadata": {
    "collapsed": true
   },
   "outputs": [],
   "source": []
  },
  {
   "cell_type": "code",
   "execution_count": 59,
   "metadata": {},
   "outputs": [
    {
     "name": "stdout",
     "output_type": "stream",
     "text": [
      "WI_NOV_DHIST_S1_fix\n",
      "WI_NOV_DHIST_S3_fix\n",
      "WI_NOV_DHIST_S4_fix\n",
      "WI_NOV_DHIST_S6_fix\n",
      "WI_NOV_DHIST_S7_fix\n"
     ]
    }
   ],
   "source": [
    "# all_rundata_phase_2 = {}\n",
    "root = 'http://localhost:8000/Projects/Antimander/view/data/'\n",
    "baseline_names = ['WI_S1', 'WI_S2', 'WI_S3', 'WI_S4', 'WI_S5']\n",
    "\n",
    "for name in baseline_names:\n",
    "    path = root + name + '/rundata_2.json'\n",
    "    all_rundata_phase_2[name] = requests.get(path).json()\n",
    "    \n",
    "nov_names = ['WI_NOV_DHIST_S%i_fix'%i for i in (1, 3, 4, 6, 7)]\n",
    "for name in nov_names:\n",
    "    print(name)\n",
    "    path = root + name + '/rundata_2.json'\n",
    "    all_rundata_phase_2[name] = requests.get(path).json()\n",
    "    \n",
    "fif_nov_names = ['WI_FIF_NOV_DHIST_S1', 'WI_FIF_NOV_DHIST_S3', 'WI_FIF_NOV_DHIST_S4', 'WI_FIF_NOV_DHIST_S5', 'WI_FIF_NOV_DHIST_S6']\n",
    "for name in fif_nov_names:\n",
    "    path = root + name + '/rundata_2.json'\n",
    "    all_rundata_phase_2[name] = requests.get(path).json()"
   ]
  },
  {
   "cell_type": "code",
   "execution_count": 58,
   "metadata": {},
   "outputs": [
    {
     "data": {
      "text/plain": [
       "['WI_NOV_DHIST_S1_fix',\n",
       " 'WI_NOV_DHIST_S3_fix',\n",
       " 'WI_NOV_DHIST_S4_fix',\n",
       " 'WI_NOV_DHIST_S6_fix',\n",
       " 'WI_NOV_DHIST_S7_fix']"
      ]
     },
     "execution_count": 58,
     "metadata": {},
     "output_type": "execute_result"
    }
   ],
   "source": [
    "nov_names"
   ]
  },
  {
   "cell_type": "code",
   "execution_count": 12,
   "metadata": {
    "collapsed": true
   },
   "outputs": [],
   "source": [
    "all_features = {}\n",
    "for name, rundata in all_rundata.items():\n",
    "    solutions = np.array(rundata['solutions'], dtype='i')\n",
    "    all_features[name] = histogram_features(solutions, 8, 8, state.tile_centers)"
   ]
  },
  {
   "cell_type": "code",
   "execution_count": 24,
   "metadata": {},
   "outputs": [
    {
     "name": "stdout",
     "output_type": "stream",
     "text": [
      "528 800\n",
      "340 800\n",
      "473 800\n",
      "460 800\n",
      "496 800\n",
      "183 400\n",
      "213 400\n",
      "122 400\n",
      "183 400\n",
      "179 400\n"
     ]
    }
   ],
   "source": [
    "filtered_features = {}\n",
    "for name, rundata in all_rundata.items():\n",
    "    solutions = np.array(filter_gt_real(rundata), dtype='i')\n",
    "    filtered_features[name] = histogram_features(solutions, 8, 8, state.tile_centers)"
   ]
  },
  {
   "cell_type": "code",
   "execution_count": 60,
   "metadata": {},
   "outputs": [
    {
     "name": "stdout",
     "output_type": "stream",
     "text": [
      "WI_S1\n",
      "497 800\n",
      "WI_S2\n",
      "408 800\n",
      "WI_S3\n",
      "494 800\n",
      "WI_S4\n",
      "458 800\n",
      "WI_S5\n",
      "498 800\n",
      "WI_NOV_DHIST_S1_fix\n",
      "424 792\n",
      "WI_NOV_DHIST_S3_fix\n",
      "452 792\n",
      "WI_NOV_DHIST_S4_fix\n",
      "441 780\n",
      "WI_NOV_DHIST_S6_fix\n",
      "380 794\n",
      "WI_NOV_DHIST_S7_fix\n",
      "409 778\n",
      "WI_FIF_NOV_DHIST_S1\n",
      "200 400\n",
      "WI_FIF_NOV_DHIST_S3\n",
      "235 400\n",
      "WI_FIF_NOV_DHIST_S4\n",
      "146 400\n",
      "WI_FIF_NOV_DHIST_S5\n",
      "154 400\n",
      "WI_FIF_NOV_DHIST_S6\n",
      "182 400\n"
     ]
    }
   ],
   "source": [
    "filtered_features_phase2 = {}\n",
    "for name, rundata in all_rundata_phase_2.items():\n",
    "    print(name)\n",
    "    solutions = np.array(filter_gt_real(rundata), dtype='i')\n",
    "    filtered_features_phase2[name] = histogram_features(solutions, 8, 8, state.tile_centers)"
   ]
  },
  {
   "cell_type": "code",
   "execution_count": null,
   "metadata": {
    "collapsed": true
   },
   "outputs": [],
   "source": []
  },
  {
   "cell_type": "code",
   "execution_count": 41,
   "metadata": {
    "collapsed": true
   },
   "outputs": [],
   "source": [
    "def dist(x1, x2):\n",
    "    return np.linalg.norm(x1-x2)\n",
    "\n",
    "def average_dists(features):\n",
    "    dists = []\n",
    "    for i, j in combinations(range(solutions.shape[0]), 2):\n",
    "        dists.append(dist(features[i], features[j]))\n",
    "    print( np.mean(dists) )\n",
    "    _= plt.hist(dists)\n",
    "    \n",
    "def num_clusters(features, threshold):\n",
    "    clusts = []\n",
    "    for f1 in features:\n",
    "        if len(clusts) == 0 or not any(dist(f1, f2) < threshold for f2 in clusts):\n",
    "            clusts.append(f1)\n",
    "    return (len(clusts))"
   ]
  },
  {
   "cell_type": "code",
   "execution_count": 67,
   "metadata": {},
   "outputs": [
    {
     "name": "stdout",
     "output_type": "stream",
     "text": [
      "146\n",
      "WI_S1 146 29\n",
      "WI_S2 146 87\n",
      "WI_S3 146 25\n",
      "WI_S4 146 15\n",
      "WI_S5 146 44\n",
      "WI_NOV_DHIST_S1_fix 146 43\n",
      "WI_NOV_DHIST_S3_fix 146 30\n",
      "WI_NOV_DHIST_S4_fix 146 18\n",
      "WI_NOV_DHIST_S6_fix 146 41\n",
      "WI_NOV_DHIST_S7_fix 146 22\n",
      "WI_FIF_NOV_DHIST_S1 146 16\n",
      "WI_FIF_NOV_DHIST_S3 146 25\n",
      "WI_FIF_NOV_DHIST_S4 146 22\n",
      "WI_FIF_NOV_DHIST_S5 146 24\n",
      "WI_FIF_NOV_DHIST_S6 146 29\n"
     ]
    }
   ],
   "source": [
    "N = min(len(f) for f in filtered_features_phase2.values())\n",
    "print(N)\n",
    "\n",
    "for name, features in filtered_features_phase2.items():\n",
    "    F = random.sample(features, N)\n",
    "    print(name, len(F), num_clusters(F, 2))"
   ]
  },
  {
   "cell_type": "code",
   "execution_count": 68,
   "metadata": {},
   "outputs": [
    {
     "name": "stdout",
     "output_type": "stream",
     "text": [
      "28.75\n",
      "29.4\n",
      "24.4\n"
     ]
    }
   ],
   "source": [
    "print(np.mean([ 30, 25, 19, 41 ]))\n",
    "print(np.mean([ 43, 35, 18, 32, 19 ]))\n",
    "print(np.mean([ 15, 24, 25, 26, 32 ]))"
   ]
  },
  {
   "cell_type": "code",
   "execution_count": null,
   "metadata": {
    "collapsed": true
   },
   "outputs": [],
   "source": [
    "N = min(len(f) for f in filtered_features.values())\n",
    "print(N)\n",
    "for name, features in filtered_features.items():\n",
    "    F = random.sample(features, N)\n",
    "    print(name, len(F), num_clusters(F, 2))"
   ]
  },
  {
   "cell_type": "code",
   "execution_count": 39,
   "metadata": {},
   "outputs": [
    {
     "name": "stdout",
     "output_type": "stream",
     "text": [
      "473\n",
      "8\n"
     ]
    }
   ],
   "source": [
    "print(len(filtered_features['WI_S3']))\n"
   ]
  },
  {
   "cell_type": "code",
   "execution_count": null,
   "metadata": {
    "collapsed": true
   },
   "outputs": [],
   "source": []
  },
  {
   "cell_type": "code",
   "execution_count": 16,
   "metadata": {
    "collapsed": true
   },
   "outputs": [],
   "source": [
    "from sklearn.decomposition import PCA"
   ]
  },
  {
   "cell_type": "code",
   "execution_count": 80,
   "metadata": {},
   "outputs": [
    {
     "name": "stdout",
     "output_type": "stream",
     "text": [
      "(1947, 8) (917, 8) (2106, 8)\n"
     ]
    }
   ],
   "source": [
    "X_baseline = np.vstack([filtered_features_phase2[n] for n in baseline_names ])\n",
    "X_nov      = np.vstack([filtered_features_phase2[n] for n in nov_names ])\n",
    "X_fif_nov  = np.vstack([filtered_features_phase2[n] for n in fif_nov_names ])\n",
    "print(X_baseline.shape, X_fif_nov.shape, X_nov.shape)"
   ]
  },
  {
   "cell_type": "code",
   "execution_count": 81,
   "metadata": {},
   "outputs": [
    {
     "data": {
      "text/plain": [
       "PCA(copy=True, iterated_power='auto', n_components=2, random_state=None,\n",
       "    svd_solver='auto', tol=0.0, whiten=False)"
      ]
     },
     "execution_count": 81,
     "metadata": {},
     "output_type": "execute_result"
    }
   ],
   "source": [
    "pca = PCA( n_components=2 )\n",
    "pca.fit(np.vstack((X_baseline[:1947], X_nov[:1947])))"
   ]
  },
  {
   "cell_type": "code",
   "execution_count": 82,
   "metadata": {
    "collapsed": true
   },
   "outputs": [],
   "source": [
    "Y_baseline = pca.transform(X_baseline)\n",
    "# Y_fif_nov = pca.transform(X_fif_nov)\n",
    "Y_nov = pca.transform(X_nov)"
   ]
  },
  {
   "cell_type": "code",
   "execution_count": 86,
   "metadata": {},
   "outputs": [
    {
     "data": {
      "image/png": "[encoded data removed]",
      "text/plain": [
       "<Figure size 576x576 with 1 Axes>"
      ]
     },
     "metadata": {
      "needs_background": "light"
     },
     "output_type": "display_data"
    }
   ],
   "source": [
    "plt.figure(figsize=(8,8))\n",
    "_= plt.scatter(Y_baseline[:, 0], Y_baseline[:, 1],alpha = 0.1,  label='baseline')\n",
    "_= plt.scatter(Y_nov[:, 0], Y_nov[:, 1], alpha = 0.1, label='NOV')\n",
    "_= plt.legend()"
   ]
  },
  {
   "cell_type": "code",
   "execution_count": 167,
   "metadata": {},
   "outputs": [
    {
     "data": {
      "text/plain": [
       "array([0.3455954 , 0.19154166])"
      ]
     },
     "execution_count": 167,
     "metadata": {},
     "output_type": "execute_result"
    }
   ],
   "source": [
    "pca.explained_variance_ratio_"
   ]
  },
  {
   "cell_type": "code",
   "execution_count": 95,
   "metadata": {
    "collapsed": true
   },
   "outputs": [],
   "source": [
    "import requests\n",
    "from itertools import combinations\n",
    "def average_dists(path):\n",
    "    run_data = requests.get(root+path).json()\n",
    "    #solutions = filter_gt_real(run_data)\n",
    "    solutions = run_data['solutions']\n",
    "    solutions = np.array(solutions, dtype='i')\n",
    "    dists = []\n",
    "    features = histogram_features(solutions, 8, 8, state.tile_centers)\n",
    "    for i, j in combinations(range(solutions.shape[0]), 2):\n",
    "        #pairwise_dist(solutions[i], solutions[j])\n",
    "        dists.append(np.linalg.norm(features[i] - features[j]))\n",
    "    print( np.mean(dists) )\n",
    "    _= plt.hist(dists)"
   ]
  },
  {
   "cell_type": "code",
   "execution_count": 98,
   "metadata": {
    "collapsed": true
   },
   "outputs": [],
   "source": [
    "# average_dists('WI_NOV_DHIST_S3/rundata_1.json')"
   ]
  },
  {
   "cell_type": "code",
   "execution_count": null,
   "metadata": {
    "collapsed": true
   },
   "outputs": [],
   "source": []
  },
  {
   "cell_type": "code",
   "execution_count": 103,
   "metadata": {},
   "outputs": [
    {
     "name": "stdout",
     "output_type": "stream",
     "text": [
      "0.34065199999999995\n"
     ]
    }
   ],
   "source": [
    "fits = []\n",
    "root = 'http://localhost:8000/Projects/Antimander/view/data/'\n",
    "for name in ['WI_S1', 'WI_S2', 'WI_S3', 'WI_S4', 'WI_S5']:\n",
    "    if name == 'WI_S2':\n",
    "        run_data = requests.get(root+name+ '/hv_5.txt' ).text\n",
    "    else:\n",
    "        run_data = requests.get(root+name+ '/hv_4.txt' ).text\n",
    "    fits.append(float(run_data.split('\\n')[-2]))\n",
    "print(np.mean(fits))"
   ]
  },
  {
   "cell_type": "code",
   "execution_count": 84,
   "metadata": {},
   "outputs": [
    {
     "name": "stdout",
     "output_type": "stream",
     "text": [
      "0.3284725\n"
     ]
    }
   ],
   "source": [
    "fits_nov = []\n",
    "root = 'http://localhost:8000/Projects/Antimander/view/data/'\n",
    "for name in ['WI_NOV_DHIST','WI_NOV_DHIST_S3','WI_NOV_DHIST_S4','WI_NOV_DHIST_S6']:#,'WI_NOV_DHIST_S7'\n",
    "    run_data = requests.get(root+name+ '/hv_4.txt' ).text\n",
    "    fits_nov.append(float(run_data.split('\\n')[-2]))\n",
    "print(np.mean(fits_nov))"
   ]
  },
  {
   "cell_type": "code",
   "execution_count": 86,
   "metadata": {},
   "outputs": [
    {
     "name": "stdout",
     "output_type": "stream",
     "text": [
      "0.357806\n"
     ]
    }
   ],
   "source": [
    "fits_fif_dhist = []\n",
    "for name in ['WI_FIF_NOV_DHIST_S1', 'WI_FIF_NOV_DHIST_S3', 'WI_FIF_NOV_DHIST_S4', 'WI_FIF_NOV_DHIST_S5', 'WI_FIF_NOV_DHIST_S6']:\n",
    "    run_data = requests.get(root+name+ '/hv_4.txt' ).text\n",
    "    fits_fif_dhist.append(float(run_data.split('\\n')[-2]))\n",
    "print(np.mean(fits_fif_dhist))"
   ]
  },
  {
   "cell_type": "code",
   "execution_count": 87,
   "metadata": {},
   "outputs": [
    {
     "data": {
      "text/plain": [
       "[0.35327, 0.37919, 0.32036, 0.3808, 0.35541]"
      ]
     },
     "execution_count": 87,
     "metadata": {},
     "output_type": "execute_result"
    }
   ],
   "source": [
    "fits_fif_dhist"
   ]
  },
  {
   "cell_type": "code",
   "execution_count": 98,
   "metadata": {},
   "outputs": [
    {
     "data": {
      "text/plain": [
       "[array([3, 7, 5, 4, 5, 0, 2, 2]),\n",
       " array([4, 7, 5, 5, 3, 0, 2, 2]),\n",
       " array([3, 5, 4, 7, 1, 3, 3, 2]),\n",
       " array([4, 6, 6, 4, 4, 0, 2, 2]),\n",
       " array([3, 5, 4, 7, 1, 3, 3, 2]),\n",
       " array([6, 2, 4, 4, 5, 2, 3, 2]),\n",
       " array([3, 7, 5, 4, 5, 0, 2, 2]),\n",
       " array([3, 7, 5, 4, 5, 0, 2, 2]),\n",
       " array([3, 7, 5, 5, 4, 0, 2, 2]),\n",
       " array([5, 6, 5, 5, 3, 0, 2, 2]),\n",
       " array([3, 7, 4, 7, 3, 0, 2, 2]),\n",
       " array([3, 5, 4, 7, 1, 3, 3, 2]),\n",
       " array([3, 5, 4, 7, 1, 3, 3, 2]),\n",
       " array([5, 3, 1, 9, 1, 3, 3, 3]),\n",
       " array([6, 2, 4, 6, 3, 3, 1, 3]),\n",
       " array([6, 2, 4, 4, 5, 2, 3, 2]),\n",
       " array([4, 6, 6, 5, 3, 0, 2, 2]),\n",
       " array([3, 5, 5, 6, 1, 3, 3, 2]),\n",
       " array([5, 3, 1, 9, 1, 3, 3, 3]),\n",
       " array([4, 6, 5, 6, 3, 0, 2, 2]),\n",
       " array([4, 6, 5, 5, 4, 0, 2, 2]),\n",
       " array([3, 7, 5, 6, 3, 0, 2, 2]),\n",
       " array([3, 7, 5, 5, 4, 0, 2, 2]),\n",
       " array([6, 3, 3, 6, 3, 3, 1, 3]),\n",
       " array([4, 6, 6, 4, 4, 0, 2, 2]),\n",
       " array([5, 3, 4, 3, 6, 2, 2, 3]),\n",
       " array([6, 3, 3, 6, 3, 2, 2, 3]),\n",
       " array([6, 2, 4, 4, 5, 2, 3, 2]),\n",
       " array([5, 3, 1, 9, 1, 3, 3, 3]),\n",
       " array([4, 4, 1, 9, 1, 3, 3, 3]),\n",
       " array([6, 2, 4, 4, 5, 2, 3, 2]),\n",
       " array([4, 6, 6, 4, 4, 0, 2, 2]),\n",
       " array([5, 3, 4, 3, 6, 2, 2, 3]),\n",
       " array([5, 3, 4, 3, 6, 3, 1, 3]),\n",
       " array([4, 6, 6, 5, 3, 0, 2, 2]),\n",
       " array([3, 5, 4, 7, 1, 3, 3, 2]),\n",
       " array([2, 6, 5, 6, 1, 3, 3, 2]),\n",
       " array([4, 7, 5, 5, 3, 0, 2, 2]),\n",
       " array([4, 7, 4, 5, 4, 0, 2, 2]),\n",
       " array([6, 3, 3, 6, 3, 3, 1, 3]),\n",
       " array([4, 6, 5, 6, 3, 0, 2, 2]),\n",
       " array([6, 3, 3, 6, 3, 3, 1, 3]),\n",
       " array([4, 6, 6, 4, 4, 0, 2, 2]),\n",
       " array([6, 2, 4, 3, 6, 2, 3, 2]),\n",
       " array([6, 2, 4, 4, 5, 2, 3, 2]),\n",
       " array([3, 5, 4, 7, 1, 3, 3, 2]),\n",
       " array([3, 5, 5, 6, 1, 3, 3, 2]),\n",
       " array([3, 5, 5, 6, 1, 3, 3, 2]),\n",
       " array([3, 7, 5, 5, 4, 0, 2, 2]),\n",
       " array([3, 5, 4, 7, 1, 3, 3, 2]),\n",
       " array([3, 7, 4, 7, 3, 0, 2, 2]),\n",
       " array([5, 3, 4, 3, 6, 3, 1, 3]),\n",
       " array([4, 6, 6, 4, 4, 0, 2, 2]),\n",
       " array([5, 6, 5, 5, 3, 0, 2, 2]),\n",
       " array([4, 6, 6, 4, 4, 0, 2, 2]),\n",
       " array([5, 3, 4, 3, 6, 3, 1, 3]),\n",
       " array([6, 2, 4, 4, 5, 2, 3, 2]),\n",
       " array([5, 3, 1, 9, 1, 3, 3, 3]),\n",
       " array([6, 2, 4, 3, 6, 2, 3, 2]),\n",
       " array([6, 3, 3, 6, 3, 2, 2, 3]),\n",
       " array([4, 4, 1, 9, 1, 3, 3, 3]),\n",
       " array([6, 3, 3, 6, 3, 3, 1, 3]),\n",
       " array([6, 2, 4, 4, 5, 2, 3, 2]),\n",
       " array([5, 3, 1, 9, 1, 3, 3, 3]),\n",
       " array([4, 6, 5, 5, 4, 0, 2, 2]),\n",
       " array([6, 2, 4, 4, 5, 2, 3, 2]),\n",
       " array([3, 5, 5, 6, 1, 3, 3, 2]),\n",
       " array([4, 7, 5, 5, 3, 0, 2, 2]),\n",
       " array([4, 6, 6, 4, 4, 0, 2, 2]),\n",
       " array([3, 7, 5, 4, 5, 0, 2, 2]),\n",
       " array([5, 5, 6, 5, 3, 0, 2, 2]),\n",
       " array([4, 6, 6, 4, 4, 0, 2, 2]),\n",
       " array([5, 6, 5, 5, 3, 0, 2, 2]),\n",
       " array([3, 5, 5, 6, 1, 3, 3, 2]),\n",
       " array([3, 7, 4, 7, 3, 0, 2, 2]),\n",
       " array([4, 6, 6, 4, 4, 0, 2, 2]),\n",
       " array([6, 3, 3, 6, 3, 3, 1, 3]),\n",
       " array([6, 2, 4, 3, 6, 2, 3, 2]),\n",
       " array([4, 6, 6, 5, 3, 0, 2, 2]),\n",
       " array([3, 5, 4, 7, 1, 3, 3, 2]),\n",
       " array([5, 3, 4, 3, 6, 3, 1, 3]),\n",
       " array([5, 3, 4, 3, 6, 3, 1, 3]),\n",
       " array([3, 7, 4, 7, 3, 0, 2, 2]),\n",
       " array([6, 2, 4, 4, 5, 2, 3, 2]),\n",
       " array([4, 7, 5, 5, 3, 0, 2, 2]),\n",
       " array([3, 7, 4, 7, 3, 0, 2, 2]),\n",
       " array([2, 6, 5, 6, 1, 3, 3, 2]),\n",
       " array([4, 6, 6, 5, 3, 0, 2, 2]),\n",
       " array([6, 2, 4, 6, 3, 3, 1, 3]),\n",
       " array([6, 2, 4, 6, 3, 3, 1, 3]),\n",
       " array([3, 5, 5, 6, 1, 3, 3, 2]),\n",
       " array([4, 6, 6, 5, 3, 0, 2, 2]),\n",
       " array([3, 7, 5, 6, 3, 0, 2, 2]),\n",
       " array([4, 6, 6, 5, 3, 0, 2, 2]),\n",
       " array([3, 7, 5, 6, 3, 0, 2, 2]),\n",
       " array([3, 5, 5, 6, 1, 3, 3, 2]),\n",
       " array([5, 3, 1, 9, 1, 3, 3, 3]),\n",
       " array([6, 2, 4, 4, 5, 2, 3, 2]),\n",
       " array([5, 6, 5, 5, 3, 0, 2, 2]),\n",
       " array([4, 4, 5, 6, 1, 3, 3, 2]),\n",
       " array([6, 2, 4, 4, 5, 2, 3, 2]),\n",
       " array([6, 2, 4, 3, 6, 2, 3, 2]),\n",
       " array([6, 2, 4, 3, 6, 2, 3, 2]),\n",
       " array([3, 5, 4, 7, 1, 3, 3, 2]),\n",
       " array([3, 5, 4, 7, 1, 3, 3, 2]),\n",
       " array([6, 2, 4, 4, 5, 2, 3, 2]),\n",
       " array([3, 5, 5, 6, 1, 3, 3, 2]),\n",
       " array([6, 3, 3, 6, 3, 3, 1, 3]),\n",
       " array([2, 6, 5, 6, 1, 3, 3, 2]),\n",
       " array([4, 6, 5, 5, 4, 0, 2, 2]),\n",
       " array([6, 2, 4, 3, 6, 2, 3, 2]),\n",
       " array([6, 2, 4, 3, 6, 2, 3, 2]),\n",
       " array([4, 6, 6, 5, 3, 0, 2, 2]),\n",
       " array([4, 4, 5, 6, 1, 3, 3, 2]),\n",
       " array([5, 5, 6, 5, 3, 0, 2, 2]),\n",
       " array([3, 5, 5, 6, 1, 3, 3, 2]),\n",
       " array([6, 2, 4, 6, 3, 3, 1, 3]),\n",
       " array([3, 7, 5, 5, 4, 0, 2, 2]),\n",
       " array([3, 5, 4, 7, 1, 3, 3, 2]),\n",
       " array([4, 6, 5, 5, 4, 0, 2, 2]),\n",
       " array([6, 3, 3, 6, 3, 3, 1, 3]),\n",
       " array([3, 5, 5, 6, 1, 3, 3, 2]),\n",
       " array([3, 5, 5, 6, 1, 3, 3, 2]),\n",
       " array([3, 7, 4, 7, 3, 0, 2, 2]),\n",
       " array([5, 3, 1, 9, 1, 3, 3, 3]),\n",
       " array([4, 6, 6, 5, 3, 0, 2, 2]),\n",
       " array([4, 6, 6, 4, 4, 0, 2, 2]),\n",
       " array([5, 3, 1, 9, 1, 3, 3, 3]),\n",
       " array([3, 5, 4, 7, 1, 3, 3, 2]),\n",
       " array([5, 6, 5, 5, 3, 0, 2, 2]),\n",
       " array([5, 3, 4, 3, 6, 3, 1, 3]),\n",
       " array([3, 5, 4, 7, 1, 3, 3, 2]),\n",
       " array([4, 6, 6, 4, 4, 0, 2, 2]),\n",
       " array([3, 5, 5, 6, 1, 3, 3, 2]),\n",
       " array([5, 3, 4, 3, 6, 2, 2, 3]),\n",
       " array([4, 6, 6, 5, 3, 0, 2, 2]),\n",
       " array([4, 6, 6, 5, 3, 0, 2, 2]),\n",
       " array([6, 2, 4, 6, 3, 3, 1, 3]),\n",
       " array([6, 2, 4, 4, 5, 2, 3, 2]),\n",
       " array([6, 2, 4, 4, 5, 2, 3, 2]),\n",
       " array([6, 2, 4, 6, 3, 3, 1, 3]),\n",
       " array([6, 2, 4, 3, 6, 2, 3, 2]),\n",
       " array([4, 6, 6, 5, 3, 0, 2, 2]),\n",
       " array([5, 3, 2, 8, 1, 3, 3, 3]),\n",
       " array([4, 6, 6, 5, 3, 0, 2, 2]),\n",
       " array([5, 3, 1, 9, 1, 3, 3, 3]),\n",
       " array([3, 5, 5, 6, 1, 3, 3, 2]),\n",
       " array([5, 3, 4, 3, 6, 3, 1, 3]),\n",
       " array([3, 7, 5, 5, 4, 0, 2, 2]),\n",
       " array([6, 2, 4, 4, 5, 2, 3, 2]),\n",
       " array([6, 3, 3, 6, 3, 3, 1, 3]),\n",
       " array([3, 5, 4, 7, 1, 3, 3, 2]),\n",
       " array([5, 3, 4, 3, 6, 2, 2, 3]),\n",
       " array([3, 5, 4, 7, 1, 3, 3, 2]),\n",
       " array([6, 3, 3, 6, 3, 3, 1, 3]),\n",
       " array([5, 3, 4, 3, 6, 2, 2, 3]),\n",
       " array([5, 3, 1, 9, 1, 3, 3, 3]),\n",
       " array([6, 3, 3, 6, 3, 3, 1, 3]),\n",
       " array([4, 7, 5, 5, 3, 0, 2, 2]),\n",
       " array([3, 7, 5, 5, 4, 0, 2, 2]),\n",
       " array([6, 2, 4, 4, 5, 2, 3, 2]),\n",
       " array([4, 6, 6, 4, 4, 0, 2, 2]),\n",
       " array([6, 2, 4, 3, 6, 2, 3, 2]),\n",
       " array([2, 6, 5, 6, 1, 3, 3, 2]),\n",
       " array([3, 7, 5, 5, 4, 0, 2, 2]),\n",
       " array([2, 6, 4, 7, 1, 3, 3, 2]),\n",
       " array([3, 5, 5, 6, 1, 3, 3, 2]),\n",
       " array([3, 5, 5, 6, 1, 3, 3, 2]),\n",
       " array([6, 2, 4, 3, 6, 2, 3, 2]),\n",
       " array([4, 6, 6, 5, 3, 0, 2, 2]),\n",
       " array([4, 6, 5, 5, 4, 0, 2, 2]),\n",
       " array([3, 5, 5, 6, 1, 3, 3, 2]),\n",
       " array([6, 2, 4, 3, 6, 2, 3, 2]),\n",
       " array([4, 6, 6, 5, 3, 0, 2, 2]),\n",
       " array([6, 2, 4, 4, 5, 2, 3, 2]),\n",
       " array([5, 3, 4, 3, 6, 2, 2, 3]),\n",
       " array([4, 6, 5, 5, 4, 0, 2, 2]),\n",
       " array([3, 5, 5, 6, 1, 3, 3, 2]),\n",
       " array([3, 5, 5, 6, 1, 3, 3, 2]),\n",
       " array([3, 5, 4, 7, 1, 3, 3, 2]),\n",
       " array([5, 3, 4, 3, 6, 3, 1, 3]),\n",
       " array([5, 3, 4, 3, 6, 2, 2, 3]),\n",
       " array([6, 2, 4, 6, 3, 3, 1, 3]),\n",
       " array([3, 5, 4, 7, 1, 3, 3, 2]),\n",
       " array([6, 3, 3, 6, 3, 3, 1, 3]),\n",
       " array([3, 7, 5, 6, 3, 0, 2, 2]),\n",
       " array([5, 3, 4, 3, 6, 3, 1, 3]),\n",
       " array([3, 5, 5, 6, 1, 3, 3, 2]),\n",
       " array([3, 5, 4, 7, 1, 3, 3, 2]),\n",
       " array([2, 6, 5, 6, 1, 3, 3, 2]),\n",
       " array([5, 3, 1, 9, 1, 3, 3, 3]),\n",
       " array([6, 2, 4, 6, 3, 3, 1, 3]),\n",
       " array([6, 2, 4, 4, 5, 2, 3, 2]),\n",
       " array([6, 2, 4, 6, 3, 3, 1, 3]),\n",
       " array([3, 7, 4, 7, 3, 0, 2, 2]),\n",
       " array([3, 7, 5, 5, 4, 0, 2, 2]),\n",
       " array([6, 3, 3, 6, 3, 3, 1, 3]),\n",
       " array([3, 5, 5, 6, 1, 3, 3, 2]),\n",
       " array([3, 7, 5, 5, 4, 0, 2, 2]),\n",
       " array([4, 6, 6, 4, 4, 0, 2, 2]),\n",
       " array([3, 5, 5, 6, 1, 3, 3, 2]),\n",
       " array([6, 2, 4, 3, 6, 2, 3, 2]),\n",
       " array([6, 2, 4, 3, 6, 2, 3, 2]),\n",
       " array([3, 5, 4, 7, 1, 3, 3, 2]),\n",
       " array([3, 7, 5, 5, 4, 0, 2, 2]),\n",
       " array([4, 6, 6, 4, 4, 0, 2, 2]),\n",
       " array([6, 3, 3, 6, 3, 3, 1, 3]),\n",
       " array([3, 5, 4, 7, 1, 3, 3, 2]),\n",
       " array([4, 6, 5, 6, 3, 0, 2, 2]),\n",
       " array([2, 6, 5, 6, 1, 3, 3, 2]),\n",
       " array([3, 5, 5, 6, 1, 3, 3, 2]),\n",
       " array([6, 3, 3, 6, 3, 3, 1, 3]),\n",
       " array([4, 6, 6, 5, 3, 0, 2, 2]),\n",
       " array([4, 6, 5, 5, 4, 0, 2, 2]),\n",
       " array([2, 6, 5, 6, 1, 3, 3, 2]),\n",
       " array([6, 2, 4, 4, 5, 2, 3, 2]),\n",
       " array([5, 3, 4, 3, 6, 3, 1, 3]),\n",
       " array([6, 2, 4, 6, 3, 3, 1, 3]),\n",
       " array([4, 6, 6, 4, 4, 0, 2, 2]),\n",
       " array([4, 6, 6, 5, 3, 0, 2, 2]),\n",
       " array([4, 7, 4, 5, 4, 0, 2, 2]),\n",
       " array([3, 5, 5, 6, 1, 3, 3, 2]),\n",
       " array([4, 4, 5, 6, 1, 3, 3, 2]),\n",
       " array([4, 4, 5, 6, 1, 3, 3, 2]),\n",
       " array([6, 2, 4, 4, 5, 2, 3, 2]),\n",
       " array([2, 6, 5, 6, 1, 3, 3, 2]),\n",
       " array([6, 2, 4, 4, 5, 2, 3, 2]),\n",
       " array([3, 7, 5, 6, 3, 0, 2, 2]),\n",
       " array([3, 7, 5, 6, 3, 0, 2, 2]),\n",
       " array([4, 6, 6, 5, 3, 0, 2, 2]),\n",
       " array([6, 3, 3, 6, 3, 3, 1, 3]),\n",
       " array([4, 6, 6, 5, 3, 0, 2, 2]),\n",
       " array([3, 7, 4, 7, 3, 0, 2, 2]),\n",
       " array([6, 2, 4, 4, 5, 2, 3, 2]),\n",
       " array([3, 7, 5, 6, 3, 0, 2, 2]),\n",
       " array([4, 4, 5, 6, 1, 3, 3, 2]),\n",
       " array([5, 3, 1, 9, 1, 3, 3, 3]),\n",
       " array([3, 5, 5, 6, 1, 3, 3, 2]),\n",
       " array([6, 3, 3, 6, 3, 3, 1, 3]),\n",
       " array([4, 6, 6, 5, 3, 0, 2, 2]),\n",
       " array([6, 2, 4, 6, 3, 3, 1, 3]),\n",
       " array([5, 6, 5, 5, 3, 0, 2, 2]),\n",
       " array([3, 5, 5, 6, 1, 3, 3, 2]),\n",
       " array([3, 7, 5, 5, 4, 0, 2, 2]),\n",
       " array([3, 5, 4, 7, 1, 3, 3, 2]),\n",
       " array([4, 6, 6, 4, 4, 0, 2, 2]),\n",
       " array([6, 2, 4, 4, 5, 2, 3, 2]),\n",
       " array([4, 6, 6, 5, 3, 0, 2, 2]),\n",
       " array([3, 5, 5, 6, 1, 3, 3, 2]),\n",
       " array([2, 6, 4, 7, 1, 3, 3, 2]),\n",
       " array([5, 3, 1, 9, 1, 3, 3, 3]),\n",
       " array([3, 7, 5, 4, 5, 0, 2, 2]),\n",
       " array([3, 7, 4, 7, 3, 0, 2, 2]),\n",
       " array([4, 6, 6, 4, 4, 0, 2, 2]),\n",
       " array([3, 7, 5, 6, 3, 0, 2, 2]),\n",
       " array([4, 6, 6, 4, 4, 0, 2, 2]),\n",
       " array([3, 7, 5, 4, 5, 0, 2, 2]),\n",
       " array([3, 7, 5, 6, 3, 0, 2, 2]),\n",
       " array([3, 5, 4, 7, 1, 3, 3, 2]),\n",
       " array([2, 6, 5, 6, 1, 3, 3, 2]),\n",
       " array([3, 5, 5, 6, 1, 3, 3, 2]),\n",
       " array([3, 7, 5, 6, 3, 0, 2, 2]),\n",
       " array([4, 6, 6, 4, 4, 0, 2, 2]),\n",
       " array([3, 7, 4, 7, 3, 0, 2, 2]),\n",
       " array([3, 5, 5, 6, 1, 3, 3, 2]),\n",
       " array([4, 7, 5, 5, 3, 0, 2, 2]),\n",
       " array([3, 5, 4, 7, 1, 3, 3, 2]),\n",
       " array([6, 2, 4, 6, 3, 3, 1, 3]),\n",
       " array([6, 2, 4, 6, 3, 3, 1, 3]),\n",
       " array([6, 2, 4, 3, 6, 2, 3, 2]),\n",
       " array([4, 6, 6, 5, 3, 0, 2, 2]),\n",
       " array([4, 6, 6, 5, 3, 0, 2, 2]),\n",
       " array([3, 7, 5, 5, 4, 0, 2, 2]),\n",
       " array([5, 3, 1, 9, 1, 3, 3, 3]),\n",
       " array([4, 6, 6, 4, 4, 0, 2, 2]),\n",
       " array([3, 7, 5, 4, 5, 0, 2, 2]),\n",
       " array([3, 5, 5, 6, 1, 3, 3, 2]),\n",
       " array([3, 5, 4, 7, 1, 3, 3, 2]),\n",
       " array([3, 7, 5, 5, 4, 0, 2, 2]),\n",
       " array([5, 3, 1, 9, 1, 3, 3, 3]),\n",
       " array([4, 6, 6, 4, 4, 0, 2, 2]),\n",
       " array([2, 6, 5, 6, 1, 3, 3, 2]),\n",
       " array([3, 5, 4, 7, 1, 3, 3, 2]),\n",
       " array([3, 5, 5, 6, 1, 3, 3, 2]),\n",
       " array([2, 6, 5, 6, 1, 3, 3, 2]),\n",
       " array([3, 5, 4, 7, 1, 3, 3, 2]),\n",
       " array([2, 6, 4, 7, 1, 3, 3, 2]),\n",
       " array([6, 2, 4, 6, 3, 3, 1, 3]),\n",
       " array([3, 7, 5, 5, 4, 0, 2, 2]),\n",
       " array([6, 3, 3, 6, 3, 3, 1, 3]),\n",
       " array([6, 2, 4, 4, 5, 2, 3, 2]),\n",
       " array([4, 6, 6, 5, 3, 0, 2, 2]),\n",
       " array([3, 5, 4, 7, 1, 3, 3, 2]),\n",
       " array([3, 5, 5, 6, 1, 3, 3, 2]),\n",
       " array([2, 6, 5, 6, 1, 3, 3, 2]),\n",
       " array([3, 7, 5, 6, 3, 0, 2, 2]),\n",
       " array([6, 2, 4, 4, 5, 2, 3, 2]),\n",
       " array([6, 3, 3, 6, 3, 3, 1, 3]),\n",
       " array([4, 6, 6, 5, 3, 0, 2, 2]),\n",
       " array([3, 7, 5, 5, 4, 0, 2, 2]),\n",
       " array([6, 3, 3, 6, 3, 3, 1, 3]),\n",
       " array([3, 7, 5, 4, 5, 0, 2, 2]),\n",
       " array([5, 6, 5, 5, 3, 0, 2, 2]),\n",
       " array([5, 6, 5, 5, 3, 0, 2, 2]),\n",
       " array([4, 6, 6, 5, 3, 0, 2, 2]),\n",
       " array([3, 7, 5, 5, 4, 0, 2, 2]),\n",
       " array([6, 2, 4, 6, 3, 3, 1, 3]),\n",
       " array([3, 7, 5, 5, 4, 0, 2, 2]),\n",
       " array([4, 6, 6, 5, 3, 0, 2, 2]),\n",
       " array([4, 6, 6, 5, 3, 0, 2, 2]),\n",
       " array([4, 6, 6, 5, 3, 0, 2, 2]),\n",
       " array([3, 5, 5, 6, 1, 3, 3, 2]),\n",
       " array([4, 6, 6, 5, 3, 0, 2, 2]),\n",
       " array([4, 6, 6, 4, 4, 0, 2, 2]),\n",
       " array([6, 2, 4, 3, 6, 2, 3, 2]),\n",
       " array([5, 3, 1, 9, 1, 3, 3, 3]),\n",
       " array([6, 2, 4, 4, 5, 2, 3, 2]),\n",
       " array([4, 6, 6, 4, 4, 0, 2, 2]),\n",
       " array([4, 6, 6, 4, 4, 0, 2, 2]),\n",
       " array([4, 6, 6, 4, 4, 0, 2, 2]),\n",
       " array([5, 6, 5, 5, 3, 0, 2, 2]),\n",
       " array([5, 3, 1, 9, 1, 3, 3, 3]),\n",
       " array([4, 4, 5, 6, 1, 3, 3, 2]),\n",
       " array([6, 2, 4, 3, 6, 2, 3, 2]),\n",
       " array([6, 2, 4, 4, 5, 2, 3, 2]),\n",
       " array([6, 2, 4, 6, 3, 3, 1, 3]),\n",
       " array([3, 5, 5, 6, 1, 3, 3, 2]),\n",
       " array([6, 3, 3, 6, 3, 3, 1, 3]),\n",
       " array([2, 6, 5, 6, 1, 3, 3, 2]),\n",
       " array([6, 2, 4, 6, 3, 3, 1, 3]),\n",
       " array([3, 7, 5, 5, 4, 0, 2, 2]),\n",
       " array([5, 3, 4, 3, 6, 3, 1, 3]),\n",
       " array([6, 2, 4, 6, 3, 3, 1, 3]),\n",
       " array([3, 5, 5, 6, 1, 3, 3, 2]),\n",
       " array([4, 6, 6, 5, 3, 0, 2, 2]),\n",
       " array([3, 7, 5, 4, 5, 0, 2, 2]),\n",
       " array([3, 7, 4, 7, 3, 0, 2, 2]),\n",
       " array([6, 3, 3, 6, 3, 3, 1, 3]),\n",
       " array([6, 2, 4, 3, 6, 2, 3, 2]),\n",
       " array([4, 6, 6, 5, 3, 0, 2, 2]),\n",
       " array([2, 6, 4, 7, 1, 3, 3, 2]),\n",
       " array([3, 5, 5, 6, 1, 3, 3, 2]),\n",
       " array([4, 6, 6, 5, 3, 0, 2, 2]),\n",
       " array([2, 6, 5, 6, 1, 3, 3, 2]),\n",
       " array([3, 7, 4, 7, 3, 0, 2, 2]),\n",
       " array([3, 7, 5, 6, 3, 0, 2, 2]),\n",
       " array([4, 6, 6, 4, 4, 0, 2, 2]),\n",
       " array([4, 6, 6, 5, 3, 0, 2, 2]),\n",
       " array([3, 5, 4, 7, 1, 3, 3, 2]),\n",
       " array([4, 4, 5, 6, 1, 3, 3, 2]),\n",
       " array([4, 7, 5, 5, 3, 0, 2, 2]),\n",
       " array([5, 3, 4, 3, 6, 2, 2, 3]),\n",
       " array([2, 6, 5, 6, 1, 3, 3, 2]),\n",
       " array([4, 6, 5, 5, 4, 0, 2, 2]),\n",
       " array([6, 2, 4, 3, 6, 2, 3, 2]),\n",
       " array([4, 6, 6, 4, 4, 0, 2, 2]),\n",
       " array([3, 5, 5, 6, 1, 3, 3, 2]),\n",
       " array([4, 6, 6, 5, 3, 0, 2, 2]),\n",
       " array([4, 6, 6, 4, 4, 0, 2, 2]),\n",
       " array([4, 6, 6, 5, 3, 0, 2, 2]),\n",
       " array([6, 2, 4, 6, 3, 3, 1, 3]),\n",
       " array([3, 7, 5, 4, 5, 0, 2, 2]),\n",
       " array([6, 2, 4, 4, 5, 2, 3, 2]),\n",
       " array([4, 6, 5, 6, 3, 0, 2, 2]),\n",
       " array([4, 6, 6, 5, 3, 0, 2, 2]),\n",
       " array([6, 3, 3, 6, 3, 3, 1, 3]),\n",
       " array([5, 3, 1, 9, 1, 3, 3, 3]),\n",
       " array([5, 3, 1, 9, 1, 3, 3, 3]),\n",
       " array([3, 7, 5, 5, 4, 0, 2, 2]),\n",
       " array([5, 3, 4, 3, 6, 3, 1, 3]),\n",
       " array([3, 5, 5, 6, 1, 3, 3, 2]),\n",
       " array([5, 3, 1, 9, 1, 3, 3, 3]),\n",
       " array([6, 3, 3, 6, 3, 3, 1, 3]),\n",
       " array([6, 3, 3, 6, 3, 3, 1, 3]),\n",
       " array([4, 6, 6, 5, 3, 0, 2, 2]),\n",
       " array([4, 7, 5, 5, 3, 0, 2, 2]),\n",
       " array([6, 2, 4, 6, 3, 3, 1, 3]),\n",
       " array([6, 2, 4, 4, 5, 2, 3, 2]),\n",
       " array([4, 6, 6, 5, 3, 0, 2, 2]),\n",
       " array([3, 7, 4, 7, 3, 0, 2, 2]),\n",
       " array([6, 2, 4, 6, 3, 3, 1, 3]),\n",
       " array([5, 3, 1, 9, 1, 3, 3, 3]),\n",
       " array([3, 5, 4, 7, 1, 3, 3, 2]),\n",
       " array([5, 3, 4, 3, 6, 2, 2, 3]),\n",
       " array([3, 7, 5, 5, 4, 0, 2, 2]),\n",
       " array([4, 6, 5, 6, 3, 0, 2, 2]),\n",
       " array([4, 6, 6, 5, 3, 0, 2, 2]),\n",
       " array([6, 2, 4, 6, 3, 3, 1, 3]),\n",
       " array([3, 5, 4, 7, 1, 3, 3, 2]),\n",
       " array([4, 6, 6, 4, 4, 0, 2, 2]),\n",
       " array([4, 7, 4, 5, 4, 0, 2, 2]),\n",
       " array([3, 5, 4, 7, 1, 3, 3, 2]),\n",
       " array([3, 7, 4, 7, 3, 0, 2, 2]),\n",
       " array([5, 3, 4, 3, 6, 3, 1, 3]),\n",
       " array([3, 7, 5, 6, 3, 0, 2, 2]),\n",
       " array([4, 6, 6, 5, 3, 0, 2, 2]),\n",
       " array([4, 6, 6, 5, 3, 0, 2, 2]),\n",
       " array([6, 3, 3, 6, 3, 3, 1, 3]),\n",
       " array([6, 2, 4, 6, 3, 3, 1, 3]),\n",
       " array([3, 7, 5, 5, 4, 0, 2, 2])]"
      ]
     },
     "execution_count": 98,
     "metadata": {},
     "output_type": "execute_result"
    }
   ],
   "source": [
    "# all_features['WI_FIF_NOV_DHIST_S5']#['values']"
   ]
  },
  {
   "cell_type": "code",
   "execution_count": 104,
   "metadata": {},
   "outputs": [
    {
     "data": {
      "text/plain": [
       "['efficiency_gap', 'polsby_popper', 'competitiveness', 'novelty', 'equality']"
      ]
     },
     "execution_count": 104,
     "metadata": {},
     "output_type": "execute_result"
    }
   ],
   "source": [
    "all_rundata['WI_FIF_NOV_DHIST_S5']['config']['metrics']"
   ]
  },
  {
   "cell_type": "code",
   "execution_count": 107,
   "metadata": {},
   "outputs": [
    {
     "data": {
      "text/plain": [
       "(0.6466641426086426,\n",
       " [0.007615809328854084, 0.6466641426086426, 0.1797625720500946])"
      ]
     },
     "execution_count": 107,
     "metadata": {},
     "output_type": "execute_result"
    }
   ],
   "source": [
    "min((v[1], v) for v in all_rundata['WI_FIF_NOV_DHIST_S1']['values'])"
   ]
  },
  {
   "cell_type": "code",
   "execution_count": 116,
   "metadata": {},
   "outputs": [
    {
     "name": "stdout",
     "output_type": "stream",
     "text": [
      "WI_S1 (0.6386171579360962, [0.003652198240160942, 0.6386171579360962, 0.18509753048419952])\n",
      "WI_S2 (0.6531096696853638, [0.009963450022041798, 0.6531096696853638, 0.22151833772659302])\n",
      "WI_S3 (0.6298000812530518, [0.008382296189665794, 0.6298000812530518, 0.28971290588378906])\n",
      "WI_S4 (0.6298334002494812, [0.009813809767365456, 0.6298334002494812, 0.17977289855480194])\n",
      "WI_S5 (0.588577389717102, [0.009393200278282166, 0.588577389717102, 0.1915447860956192])\n",
      "WI_FIF_NOV_DHIST_S1 (0.6466641426086426, [0.007615809328854084, 0.6466641426086426, 0.1797625720500946])\n",
      "WI_FIF_NOV_DHIST_S3 (0.620061993598938, [0.010917030274868011, 0.620061993598938, 0.25990065932273865])\n",
      "WI_FIF_NOV_DHIST_S4 (0.6791926622390747, [0.008970832452178001, 0.6791926622390747, 0.14198581874370575])\n",
      "WI_FIF_NOV_DHIST_S5 (0.6187732219696045, [0.011792362667620182, 0.6187732219696045, 0.15602163970470428])\n",
      "WI_FIF_NOV_DHIST_S6 (0.6445044279098511, [0.006844574585556984, 0.6445044279098511, 0.16654132306575775])\n"
     ]
    }
   ],
   "source": [
    "for name in all_rundata.keys():\n",
    "    print(name, min((v[1], v) for v in all_rundata[name]['values']))"
   ]
  },
  {
   "cell_type": "code",
   "execution_count": null,
   "metadata": {
    "collapsed": true
   },
   "outputs": [],
   "source": []
  }
 ],
 "metadata": {
  "kernelspec": {
   "display_name": "Python 3",
   "language": "python",
   "name": "python3"
  },
  "language_info": {
   "codemirror_mode": {
    "name": "ipython",
    "version": 3
   },
   "file_extension": ".py",
   "mimetype": "text/x-python",
   "name": "python",
   "nbconvert_exporter": "python",
   "pygments_lexer": "ipython3",
   "version": "3.5.4"
  }
 },
 "nbformat": 4,
 "nbformat_minor": 4
}
